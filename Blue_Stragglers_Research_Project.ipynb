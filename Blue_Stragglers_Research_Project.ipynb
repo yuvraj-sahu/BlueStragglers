{
  "nbformat": 4,
  "nbformat_minor": 0,
  "metadata": {
    "colab": {
      "provenance": []
    },
    "kernelspec": {
      "name": "python3",
      "display_name": "Python 3"
    },
    "language_info": {
      "name": "python"
    },
    "widgets": {
      "application/vnd.jupyter.widget-state+json": {
        "c836be32ae564de3b12b7d9410554afb": {
          "model_module": "jupyterlab-plotly",
          "model_name": "FigureModel",
          "model_module_version": "^5.15.0",
          "state": {
            "_config": {
              "plotlyServerURL": "https://plot.ly"
            },
            "_data": [
              {
                "mode": "markers",
                "x": {
                  "dtype": "float64",
                  "shape": [
                    283
                  ]
                },
                "y": {
                  "dtype": "float64",
                  "shape": [
                    283
                  ]
                },
                "type": "scatter",
                "uid": "5b0eacfe-f30f-479f-a43d-c1c016731813"
              }
            ],
            "_dom_classes": [],
            "_js2py_layoutDelta": {},
            "_js2py_pointsCallback": {},
            "_js2py_relayout": {},
            "_js2py_restyle": {},
            "_js2py_traceDeltas": {},
            "_js2py_update": {},
            "_last_layout_edit_id": 5,
            "_last_trace_edit_id": 4,
            "_layout": {},
            "_model_module": "jupyterlab-plotly",
            "_model_module_version": "^5.15.0",
            "_model_name": "FigureModel",
            "_py2js_addTraces": {},
            "_py2js_animate": {},
            "_py2js_deleteTraces": {},
            "_py2js_moveTraces": {},
            "_py2js_relayout": null,
            "_py2js_removeLayoutProps": {},
            "_py2js_removeTraceProps": {},
            "_py2js_restyle": null,
            "_py2js_update": null,
            "_view_count": 0,
            "_view_module": "jupyterlab-plotly",
            "_view_module_version": "^5.15.0",
            "_view_name": "FigureView"
          }
        }
      }
    }
  },
  "cells": [
    {
      "cell_type": "markdown",
      "source": [
        "## Blue Stragglers Research Project\n",
        "Yuvraj Sahu, Elijah Flores, Andrew Harvey\n",
        "\n",
        "Geometry of Space - Freshman Research Initiative\n",
        "\n",
        "The University of Texas at Austin"
      ],
      "metadata": {
        "id": "T8VcMvpsTdi8"
      }
    },
    {
      "cell_type": "code",
      "source": [
        "# Important variables for use in the rest of the program\n",
        "filename = \"NGC 2682 Initial Data.csv\""
      ],
      "metadata": {
        "id": "jbMg8K6gT1Ap"
      },
      "execution_count": 1,
      "outputs": []
    },
    {
      "cell_type": "code",
      "execution_count": 2,
      "metadata": {
        "id": "_53zLLAwTaQ1"
      },
      "outputs": [],
      "source": [
        "# Imports the necessarily libraries\n",
        "import numpy as np\n",
        "import pandas as pd\n",
        "import matplotlib.pyplot as plt\n",
        "import math\n",
        "import plotly.express as px\n",
        "import plotly.graph_objects as go"
      ]
    },
    {
      "cell_type": "code",
      "source": [
        "from google.colab import output\n",
        "output.enable_custom_widget_manager()"
      ],
      "metadata": {
        "id": "2fim3v5JXSxk"
      },
      "execution_count": 10,
      "outputs": []
    },
    {
      "cell_type": "code",
      "source": [
        "clustername = filename.split()[0] + ' ' + filename.split()[1]\n",
        "df = pd.read_csv(filename, skiprows=0)"
      ],
      "metadata": {
        "id": "CR-tycffUNDG"
      },
      "execution_count": 3,
      "outputs": []
    },
    {
      "cell_type": "code",
      "source": [
        "# determines bss candidacy for each star\n",
        "colors = []\n",
        "for star in range (len(df.index)):\n",
        "    g_rp = df.iloc[star]['g_rp']\n",
        "    #if (g_rp < 0.4): # NGC 2422\n",
        "    if (g_rp < 0.4055): # NGC 2682\n",
        "    #if (df.iloc[star]['phot_g_mean_mag'] < 12 and df.iloc[star]['g_rp'] < 0.4): # NGC 2354\n",
        "    #if (df.iloc[star]['designation'] == 'Gaia DR3 661322060465742336'): # NGC 2632\n",
        "        colors.append('darkcyan')\n",
        "    else:\n",
        "        colors.append('black')\n",
        "df['color'] = colors"
      ],
      "metadata": {
        "id": "QQ3o4MDdUPYJ"
      },
      "execution_count": 4,
      "outputs": []
    },
    {
      "cell_type": "code",
      "source": [
        "# creates simbad url from a GAIA id\n",
        "def link(id):\n",
        "    u = id.split()\n",
        "    return 'http://simbad.cds.unistra.fr/simbad/sim-basic?Ident=' + u[0] + '+' + u[1] + '+' + u[2] + '&submit=SIMBAD+search'"
      ],
      "metadata": {
        "id": "2njMN9FkUVPC"
      },
      "execution_count": 5,
      "outputs": []
    },
    {
      "cell_type": "code",
      "source": [
        "# create our callback function\n",
        "def update_point(trace, points, selector):\n",
        "    s = list(scatter.marker.size)\n",
        "    for i in points.point_inds:\n",
        "        s[i] = 20\n",
        "        with f.batch_update():\n",
        "            print(str(df['designation'][i]))\n",
        "            print('RA: ' + str(df['ra'][i]))\n",
        "            print('Dec: ' + str(df['dec'][i]))\n",
        "            print('Simbad URL: ' + link(df['designation'][i]))\n",
        "            print()\n",
        "        scatter.marker.size = s\n",
        "\n",
        "def plot(x_feature, y_feature, x_title, y_title, title, update = update_point):\n",
        "    f = go.FigureWidget([go.Scatter(x=df[x_feature], y=df[y_feature], mode='markers')])\n",
        "    scatter = f.data[0]\n",
        "    scatter.marker.color = df['color']\n",
        "    scatter.marker.size = [10] * len(df.index)\n",
        "    f.update_layout(yaxis_autorange=\"reversed\")\n",
        "    f.update_layout(dict(xaxis_title = x_title, yaxis_title = y_title, title_text = title, title_x = 0.5, width = 1200, height = 900, font_size = 20))\n",
        "    f.layout.hovermode = 'closest'\n",
        "    scatter.on_click(update)\n",
        "    return f"
      ],
      "metadata": {
        "id": "xVENtT5MUX35"
      },
      "execution_count": 6,
      "outputs": []
    },
    {
      "cell_type": "code",
      "source": [
        "plot('g_rp', 'phot_g_mean_mag', 'G - Rp [mag]', 'G [mag]', 'Color-Magnitude Diagram of ' + clustername)"
      ],
      "metadata": {
        "colab": {
          "base_uri": "https://localhost:8080/",
          "height": 17,
          "referenced_widgets": [
            "c836be32ae564de3b12b7d9410554afb"
          ]
        },
        "id": "CxXEBQfGVBeK",
        "outputId": "f8295ab8-3965-496d-ed86-b02f837800cf"
      },
      "execution_count": 11,
      "outputs": [
        {
          "output_type": "execute_result",
          "data": {
            "application/vnd.jupyter.widget-view+json": {
              "version_major": 2,
              "version_minor": 0,
              "model_id": "c836be32ae564de3b12b7d9410554afb"
            },
            "text/plain": [
              "FigureWidget({\n",
              "    'data': [{'marker': {'color': array(['black', 'black', 'black', ..., 'black', 'black', 'black'], dtype=object),\n",
              "                         'size': [10, 10, 10, ..., 10, 10, 10]},\n",
              "              'mode': 'markers',\n",
              "              'type': 'scatter',\n",
              "              'uid': '5b0eacfe-f30f-479f-a43d-c1c016731813',\n",
              "              'x': array([0.44971752, 0.761467  , 0.50718117, ..., 0.47683907, 0.45079422,\n",
              "                          0.46358776]),\n",
              "              'y': array([13.646082, 16.481094, 14.28375 , ..., 13.562483, 13.264436, 13.080602])}],\n",
              "    'layout': {'font': {'size': 20},\n",
              "               'height': 900,\n",
              "               'hovermode': 'closest',\n",
              "               'template': '...',\n",
              "               'title': {'text': 'Color-Magnitude Diagram of NGC 2682', 'x': 0.5},\n",
              "               'width': 1200,\n",
              "               'xaxis': {'title': {'text': 'G - Rp [mag]'}},\n",
              "               'yaxis': {'autorange': 'reversed', 'title': {'text': 'G [mag]'}}}\n",
              "})"
            ]
          },
          "metadata": {},
          "execution_count": 11
        }
      ]
    },
    {
      "cell_type": "code",
      "source": [
        "plot('pmra', 'pmdec', 'Proper Motion: RA', 'Proper Motion: Dec', 'Proper Motion Diagram of ' + clustername)"
      ],
      "metadata": {
        "id": "k1aO0AIYWhHK"
      },
      "execution_count": null,
      "outputs": []
    }
  ]
}