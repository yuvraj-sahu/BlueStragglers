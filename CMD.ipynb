{
 "cells": [
  {
   "cell_type": "code",
   "execution_count": 139,
   "id": "aa13bfec",
   "metadata": {},
   "outputs": [],
   "source": [
    "# import libraries\n",
    "import pandas as pd\n",
    "import plotly.express as px\n",
    "import plotly.graph_objects as go"
   ]
  },
  {
   "cell_type": "code",
   "execution_count": 140,
   "id": "ad656179",
   "metadata": {},
   "outputs": [
    {
     "data": {
      "text/plain": [
       "'\\nSELECT * FROM gaiadr3.gaia_source\\nWHERE phot_g_mean_mag < 18.0\\nAND dec_error BETWEEN 11.6100 AND 12.0233\\nAND ra_error BETWEEN 132.6183 AND 133.0317\\nAND parallax - parallax_error >= 1.1111\\nAND parallax + parallax_error <= 1.2500\\n'"
      ]
     },
     "execution_count": 140,
     "metadata": {},
     "output_type": "execute_result"
    }
   ],
   "source": [
    "\"\"\"\n",
    "SELECT * FROM gaiadr3.gaia_source\n",
    "WHERE phot_g_mean_mag < 18.0\n",
    "AND dec_error BETWEEN 11.6100 AND 12.0233\n",
    "AND ra_error BETWEEN 132.6183 AND 133.0317\n",
    "AND parallax - parallax_error >= 1.1111\n",
    "AND parallax + parallax_error <= 1.2500\n",
    "\"\"\""
   ]
  },
  {
   "cell_type": "code",
   "execution_count": 141,
   "id": "7c26c4cb",
   "metadata": {},
   "outputs": [],
   "source": [
    "# read the data file\n",
    "df = pd.read_csv('M67 Initial Data.csv', skiprows=0)"
   ]
  },
  {
   "cell_type": "markdown",
   "id": "753377a7",
   "metadata": {},
   "source": [
    "f = go.FigureWidget([go.Scatter(x=df['g_rp'], y=df['phot_g_mean_mag'], hovertext=df['color'], mode='markers')])\n",
    "scatter = f.data[0]"
   ]
  },
  {
   "cell_type": "code",
   "execution_count": 142,
   "id": "21e2e5d9",
   "metadata": {},
   "outputs": [],
   "source": [
    "# determines bss candidacy for each star\n",
    "colors = []\n",
    "for star in range (len(df.index)):\n",
    "    g_rp = df.iloc[star]['g_rp']\n",
    "    if (g_rp < 0.38):\n",
    "        colors.append('blue')\n",
    "    else:\n",
    "        colors.append('red')\n",
    "df['color'] = colors"
   ]
  },
  {
   "cell_type": "code",
   "execution_count": 143,
   "id": "7f720d2d",
   "metadata": {},
   "outputs": [],
   "source": [
    "# creates simbad url from a GAIA id\n",
    "def link(id):\n",
    "    u = id.split()\n",
    "    url = 'http://simbad.cds.unistra.fr/simbad/sim-basic?Ident=' + u[0] + '+' + u[1] + '+' + u[2] + '&submit=SIMBAD+search'\n",
    "    return url"
   ]
  },
  {
   "cell_type": "code",
   "execution_count": 144,
   "id": "00506787",
   "metadata": {},
   "outputs": [
    {
     "data": {
      "application/vnd.jupyter.widget-view+json": {
       "model_id": "37f42faf255c41cba650d1aee47cc1b5",
       "version_major": 2,
       "version_minor": 0
      },
      "text/plain": [
       "FigureWidget({\n",
       "    'data': [{'marker': {'color': array(['red', 'red', 'red', ..., 'red', 'red', 'red'], dtype=object),\n",
       "                         'size': [10, 10, 10, ..., 10, 10, 10]},\n",
       "              'mode': 'markers',\n",
       "              'type': 'scatter',\n",
       "              'uid': '3b6ab841-7930-4835-8886-243f31978022',\n",
       "              'x': array([0.44971752, 0.761467  , 0.50718117, ..., 0.47683907, 0.45079422,\n",
       "                          0.46358776]),\n",
       "              'y': array([13.646082, 16.481094, 14.28375 , ..., 13.562483, 13.264436, 13.080602])}],\n",
       "    'layout': {'height': 900,\n",
       "               'hovermode': 'closest',\n",
       "               'template': '...',\n",
       "               'title': {'text': 'Color-Magnitude Diagram of Messier 67', 'x': 0.5},\n",
       "               'width': 1200,\n",
       "               'xaxis': {'title': {'text': 'G-RP'}},\n",
       "               'yaxis': {'autorange': 'reversed', 'title': {'text': 'Magnitude'}}}\n",
       "})"
      ]
     },
     "execution_count": 144,
     "metadata": {},
     "output_type": "execute_result"
    }
   ],
   "source": [
    "f = go.FigureWidget([go.Scatter(x=df['g_rp'], y=df['phot_g_mean_mag'], mode='markers')])\n",
    "scatter = f.data[0]\n",
    "scatter.marker.color = df['color']\n",
    "scatter.marker.size = [10] * len(df.index)\n",
    "f.update_layout(yaxis_autorange=\"reversed\")\n",
    "f.update_layout(dict(xaxis_title = 'G-RP', yaxis_title = 'Magnitude', title_text = 'Color-Magnitude Diagram of Messier 67', title_x = 0.5, width = 1200, height = 900))\n",
    "f.layout.hovermode = 'closest'\n",
    "\n",
    "# create our callback function\n",
    "def update_point(trace, points, selector):\n",
    "    s = list(scatter.marker.size)\n",
    "    for i in points.point_inds:\n",
    "        s[i] = 20\n",
    "        with f.batch_update():\n",
    "            print('RA: ' + str(df['ra'][i]))\n",
    "            print('Dec: ' + str(df['dec'][i]))\n",
    "            print('Gaia ID: ' + str(df['designation'][i]))\n",
    "            print('Simbad URL: ' + link(df['designation'][i]))\n",
    "            print()\n",
    "            scatter.marker.size = s\n",
    "\n",
    "scatter.on_click(update_point)\n",
    "f"
   ]
  }
 ],
 "metadata": {
  "kernelspec": {
   "display_name": "Python 3 (ipykernel)",
   "language": "python",
   "name": "python3"
  },
  "language_info": {
   "codemirror_mode": {
    "name": "ipython",
    "version": 3
   },
   "file_extension": ".py",
   "mimetype": "text/x-python",
   "name": "python",
   "nbconvert_exporter": "python",
   "pygments_lexer": "ipython3",
   "version": "3.11.1"
  }
 },
 "nbformat": 4,
 "nbformat_minor": 5
}
